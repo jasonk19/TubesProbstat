{
 "cells": [
  {
   "cell_type": "markdown",
   "metadata": {},
   "source": [
    "# Tugas Besar Probabilitas dan Statistika"
   ]
  },
  {
   "cell_type": "markdown",
   "metadata": {},
   "source": [
    "#### Author\n",
    "- Fadil Fauzani 13520032\n",
    "- Jason Kanggara 13520080"
   ]
  },
  {
   "cell_type": "code",
   "execution_count": null,
   "metadata": {},
   "outputs": [],
   "source": [
    "import pandas as pd\n",
    "import numpy as np\n",
    "import seaborn as sns\n",
    "import matplotlib.pyplot as plt\n",
    "import scipy.stats as stats\n",
    "import math"
   ]
  },
  {
   "cell_type": "markdown",
   "metadata": {},
   "source": [
    "### Dataset"
   ]
  },
  {
   "cell_type": "code",
   "execution_count": null,
   "metadata": {},
   "outputs": [],
   "source": [
    "column_header = [\"id\", \"pH\", \"Hardness\", \"Solids\", \"Chloramines\", \"Sulfate\", \"Conductivity\", \"OrganicCarbon\", \"Trihalomethanes\", \"Turbidity\", \"Potability\"]\n",
    "df = pd.read_csv(\"./water_potability.csv\", names=column_header)\n",
    "df.head()"
   ]
  },
  {
   "cell_type": "markdown",
   "metadata": {},
   "source": [
    "#### 1. Menulis deskripsi statistika (Descriptive Statistics) dari semua kolom pada data yang bersifat numerik"
   ]
  },
  {
   "cell_type": "markdown",
   "metadata": {},
   "source": [
    "Descriptive Statistics yang akan dicari terdiri dari\n",
    "- Mean\n",
    "- Median\n",
    "- Modus\n",
    "- Standar Deviasi\n",
    "- Variansi\n",
    "- Range\n",
    "- Nilai Minimum\n",
    "- Nilai Maksimum\n",
    "- Kuartil (1, 2, 3)\n",
    "- IQR\n",
    "- Skewness\n",
    "- Kurtosis"
   ]
  },
  {
   "cell_type": "code",
   "execution_count": null,
   "metadata": {},
   "outputs": [],
   "source": [
    "def statisticDescription(df):\n",
    "  print(\"Mean: \", df.mean())\n",
    "  print(\"Median: \", df.median())\n",
    "  print(\"Modus: \", end=\"\")\n",
    "  modus = df.mode()\n",
    "  for i in range(len(modus)):\n",
    "    if i != 0:\n",
    "      print(\", \", end=\"\")\n",
    "    print(modus[i], end=\"\")\n",
    "  print()\n",
    "  print(\"Standar Deviasi: \", df.std())\n",
    "  print(\"Variansi: \", df.var())\n",
    "  print(\"Range: \", df.max() - df.min())\n",
    "  print(\"Nilai Minimum: \", df.min())\n",
    "  print(\"Nilai Maksimum: \", df.max())\n",
    "  print(\"Kuartil 1: \", df.quantile(0.25))\n",
    "  print(\"Kuartil 2: \", df.quantile(0.5))\n",
    "  print(\"Kuartil 3: \", df.quantile(0.75))\n",
    "  print(\"IQR: \", df.quantile(0.75) - df.quantile(0.25))\n",
    "  print(\"Skewness: \", df.skew())\n",
    "  print(\"Kurtosis: \", df.kurt())"
   ]
  },
  {
   "cell_type": "markdown",
   "metadata": {},
   "source": [
    "##### Kolom id\n",
    "Kolom id adalah penomoran setiap row, sehingga deskripsi statistik pada kolom id tidak diperlukan"
   ]
  },
  {
   "cell_type": "markdown",
   "metadata": {},
   "source": [
    "##### Kolom pH"
   ]
  },
  {
   "cell_type": "code",
   "execution_count": null,
   "metadata": {},
   "outputs": [],
   "source": [
    "statisticDescription(df[\"pH\"])"
   ]
  },
  {
   "cell_type": "markdown",
   "metadata": {},
   "source": [
    "##### Kolom Hardness"
   ]
  },
  {
   "cell_type": "code",
   "execution_count": null,
   "metadata": {},
   "outputs": [],
   "source": [
    "statisticDescription(df[\"Hardness\"])"
   ]
  },
  {
   "cell_type": "markdown",
   "metadata": {},
   "source": [
    "##### Kolom Solids"
   ]
  },
  {
   "cell_type": "code",
   "execution_count": null,
   "metadata": {},
   "outputs": [],
   "source": [
    "statisticDescription(df[\"Solids\"])"
   ]
  },
  {
   "cell_type": "markdown",
   "metadata": {},
   "source": [
    "##### Kolom Chloramines"
   ]
  },
  {
   "cell_type": "code",
   "execution_count": null,
   "metadata": {},
   "outputs": [],
   "source": [
    "statisticDescription(df[\"Chloramines\"])"
   ]
  },
  {
   "cell_type": "markdown",
   "metadata": {},
   "source": [
    "##### Kolom Sulfate"
   ]
  },
  {
   "cell_type": "code",
   "execution_count": null,
   "metadata": {},
   "outputs": [],
   "source": [
    "statisticDescription(df[\"Sulfate\"])"
   ]
  },
  {
   "cell_type": "markdown",
   "metadata": {},
   "source": [
    "##### Kolom Conductivity"
   ]
  },
  {
   "cell_type": "code",
   "execution_count": null,
   "metadata": {},
   "outputs": [],
   "source": [
    "statisticDescription(df[\"Conductivity\"])"
   ]
  },
  {
   "cell_type": "markdown",
   "metadata": {},
   "source": [
    "##### Kolom OrganicCarbon"
   ]
  },
  {
   "cell_type": "code",
   "execution_count": null,
   "metadata": {},
   "outputs": [],
   "source": [
    "statisticDescription(df[\"OrganicCarbon\"])"
   ]
  },
  {
   "cell_type": "markdown",
   "metadata": {},
   "source": [
    "##### Kolom Trihalomethanes"
   ]
  },
  {
   "cell_type": "code",
   "execution_count": null,
   "metadata": {},
   "outputs": [],
   "source": [
    "statisticDescription(df[\"Trihalomethanes\"])"
   ]
  },
  {
   "cell_type": "markdown",
   "metadata": {},
   "source": [
    "##### Kolom Turbidity"
   ]
  },
  {
   "cell_type": "code",
   "execution_count": null,
   "metadata": {},
   "outputs": [],
   "source": [
    "statisticDescription(df[\"Turbidity\"])"
   ]
  },
  {
   "cell_type": "markdown",
   "metadata": {},
   "source": [
    "##### Kolom Potability\n",
    "Karen kolom potability adalah kolom target, maka deskripsi statistika pada kolom potability tidak diperlukan"
   ]
  },
  {
   "cell_type": "markdown",
   "metadata": {},
   "source": [
    "#### 2. Membuat Visualisasi plot distribusi, dalam bentuk histogram dan boxplot untuk setiap kolom numerik. Berikan uraian penjelasan kondisi setiap kolom berdasarkan kedua plot tersebut.\n",
    "*Histogram and Boxplot*"
   ]
  },
  {
   "cell_type": "code",
   "execution_count": null,
   "metadata": {},
   "outputs": [],
   "source": [
    "def displayHistAndBox(df):\n",
    "  figure, axes = plt.subplots(1, 2, figsize=(16, 6))\n",
    "\n",
    "  sns.histplot(data=df, ax=axes[0])\n",
    "  sns.boxplot(data=df, orient=\"x\", width=0.15, ax=axes[1])"
   ]
  },
  {
   "cell_type": "markdown",
   "metadata": {},
   "source": [
    "##### Kolom id"
   ]
  },
  {
   "cell_type": "markdown",
   "metadata": {},
   "source": [
    "Karena kolom adalah penomoran row, maka penggambaran Histogram dan Boxplot tidak diperlukan"
   ]
  },
  {
   "cell_type": "markdown",
   "metadata": {},
   "source": [
    "##### Kolom pH"
   ]
  },
  {
   "cell_type": "code",
   "execution_count": 164,
   "metadata": {},
   "outputs": [
    {
     "data": {
      "image/png": "[encoded data removed]",
      "text/plain": [
       "<Figure size 1152x432 with 2 Axes>"
      ]
     },
     "metadata": {},
     "output_type": "display_data"
    }
   ],
   "source": [
    "displayHistAndBox(df[\"pH\"])"
   ]
  },
  {
   "cell_type": "markdown",
   "metadata": {},
   "source": [
    "Dari visualisasi histogram yang dihasilkan, dapat dilihat data tidak condong pada satu sisi. Oleh karena itu, dapat disimpulkan skewness dari data kolom pH bersifat symmetrical distribution. Dari histogram juga terlihat bahwa data tersebar secara merata, maka kolom pH bersifat mesokurtic.\n",
    "\n",
    "Dari visualisasi boxplot yang dihasilkan, dapat dilihat kuartil 1 data bernilai sekitar 6, median data bernilai sekitar 7, dan kuartil 3 data bernilai sekitar 8. Dari boxplot juga terdapat beberapa pencilan atas dan pencilan bawah."
   ]
  },
  {
   "cell_type": "markdown",
   "metadata": {},
   "source": [
    "##### Kolom Hardness"
   ]
  },
  {
   "cell_type": "code",
   "execution_count": 166,
   "metadata": {},
   "outputs": [
    {
     "data": {
      "image/png": "[encoded data removed]",
      "text/plain": [
       "<Figure size 1152x432 with 2 Axes>"
      ]
     },
     "metadata": {},
     "output_type": "display_data"
    }
   ],
   "source": [
    "displayHistAndBox(df[\"Hardness\"])"
   ]
  },
  {
   "cell_type": "markdown",
   "metadata": {},
   "source": [
    "Dari visualisasi histogram yang dihasilkan, dapat dilihat data tidak condong pada satu sisi. Oleh karena itu, dapat disimpulkan skewness dari data kolom Hardness bersifat symmetrical distribution. Dari histogram juga terlihat bahwa data tersebar secara merata, maka kolom Hardness bersifat mesokurtic.\n",
    "\n",
    "Dari visualisasi boxplot yang dihasilkan, dapat dilihat kuartil 1 data bernilai sekitar 170, median data bernilai sekitar 200, dan kuartil 3 data bernilai sekitar 220. Dari boxplot juga terdapat beberapa pencilan atas dan pencilan bawah."
   ]
  },
  {
   "cell_type": "markdown",
   "metadata": {},
   "source": [
    "##### Kolom Solids"
   ]
  },
  {
   "cell_type": "code",
   "execution_count": 168,
   "metadata": {},
   "outputs": [
    {
     "data": {
      "image/png": "[encoded data removed]",
      "text/plain": [
       "<Figure size 1152x432 with 2 Axes>"
      ]
     },
     "metadata": {},
     "output_type": "display_data"
    }
   ],
   "source": [
    "displayHistAndBox(df[\"Solids\"])"
   ]
  },
  {
   "cell_type": "markdown",
   "metadata": {},
   "source": [
    "Dari visualisasi histogram yang dihasilkan, dapat dilihat data condong pada sisi sebelah kiri. Oleh karena itu, dapat disimpulkan skewness dari data kolom Solids bersifat positive skew. Dari histogram juga terlihat bahwa data tersebar banyak pada sebelah kiri sehingga terlihat lancip, maka kolom Solids bersifat leptokurtic.\n",
    "\n",
    "Dari visualisasi boxplot yang dihasilkan, dapat dilihat kuartil 1 data bernilai sekitar 17000, median data bernilai sekitar 20000, dan kuartil 3 data bernilai sekitar 28000. Dari boxplot juga terdapat beberapa pencilan atas dan tidak ada pencilan bawah."
   ]
  },
  {
   "cell_type": "markdown",
   "metadata": {},
   "source": [
    "##### Kolom Chloramines"
   ]
  },
  {
   "cell_type": "code",
   "execution_count": 169,
   "metadata": {},
   "outputs": [
    {
     "data": {
      "image/png": "[encoded data removed]",
      "text/plain": [
       "<Figure size 1152x432 with 2 Axes>"
      ]
     },
     "metadata": {},
     "output_type": "display_data"
    }
   ],
   "source": [
    "displayHistAndBox(df[\"Chloramines\"])"
   ]
  },
  {
   "cell_type": "markdown",
   "metadata": {},
   "source": [
    "Dari visualisasi histogram yang dihasilkan, dapat dilihat data tidak condong pada satu sisi. Oleh karena itu, dapat disimpulkan skewness dari data kolom Chloramines bersifat symmetrical distribution. Dari histogram juga terlihat bahwa data tersebar secara merata, maka kolom Chloramines bersifat mesokurtic.\n",
    "\n",
    "Dari visualisasi boxplot yang dihasilkan, dapat dilihat kuartil 1 data bernilai sekitar 6, median data bernilai sekitar 7, dan kuartil 3 data bernilai sekitar 8. Dari boxplot juga terdapat beberapa pencilan atas dan pencilan bawah."
   ]
  },
  {
   "cell_type": "markdown",
   "metadata": {},
   "source": [
    "##### Kolom Sulfate"
   ]
  },
  {
   "cell_type": "code",
   "execution_count": 170,
   "metadata": {},
   "outputs": [
    {
     "data": {
      "image/png": "[encoded data removed]",
      "text/plain": [
       "<Figure size 1152x432 with 2 Axes>"
      ]
     },
     "metadata": {},
     "output_type": "display_data"
    }
   ],
   "source": [
    "displayHistAndBox(df[\"Sulfate\"])"
   ]
  },
  {
   "cell_type": "markdown",
   "metadata": {},
   "source": [
    "Dari visualisasi histogram yang dihasilkan, dapat dilihat data lebih condong ke sisi sebelah kanan. Oleh karena itu, dapat disimpulkan skewness dari data kolom Sulfate bersifat negative skew. Dari histogram juga terlihat bahwa data tersebar lebih dominan di sebelah kanan dan terlihat lancip, maka kolom Sulfate bersifat leptokurtic.\n",
    "\n",
    "Dari visualisasi boxplot yang dihasilkan, dapat dilihat kuartil 1 data bernilai sekitar 310, median data bernilai sekitar 330, dan kuartil 3 data bernilai sekitar 360. Dari boxplot juga terdapat beberapa pencilan atas dan pencilan bawah."
   ]
  },
  {
   "cell_type": "markdown",
   "metadata": {},
   "source": [
    "##### Kolom Conductivity"
   ]
  },
  {
   "cell_type": "code",
   "execution_count": 171,
   "metadata": {},
   "outputs": [
    {
     "data": {
      "image/png": "[encoded data removed]",
      "text/plain": [
       "<Figure size 1152x432 with 2 Axes>"
      ]
     },
     "metadata": {},
     "output_type": "display_data"
    }
   ],
   "source": [
    "displayHistAndBox(df[\"Conductivity\"])"
   ]
  },
  {
   "cell_type": "markdown",
   "metadata": {},
   "source": [
    "Dari visualisasi histogram yang dihasilkan, dapat dilihat data lebih condong ke sisi kiri. Oleh karena itu, dapat disimpulkan skewness dari data kolom Conductivity bersifat positive skew. Dari histogram, walaupun bersifat positive skew, sebaran data cukup merata, maka kolom Conductivity bersifat mesokurtic.\n",
    "\n",
    "Dari visualisasi boxplot yang dihasilkan, dapat dilihat kuartil 1 data bernilai sekitar 370, median data bernilai sekitar 420, dan kuartil 3 data bernilai sekitar 590. Dari boxplot juga terdapat beberapa pencilan atas dan tidak ada pencilan bawah."
   ]
  },
  {
   "cell_type": "markdown",
   "metadata": {},
   "source": [
    "##### Kolom OrganicCarbon"
   ]
  },
  {
   "cell_type": "code",
   "execution_count": 172,
   "metadata": {},
   "outputs": [
    {
     "data": {
      "image/png": "[encoded data removed]",
      "text/plain": [
       "<Figure size 1152x432 with 2 Axes>"
      ]
     },
     "metadata": {},
     "output_type": "display_data"
    }
   ],
   "source": [
    "displayHistAndBox(df[\"OrganicCarbon\"])"
   ]
  },
  {
   "cell_type": "markdown",
   "metadata": {},
   "source": [
    "Dari visualisasi histogram yang dihasilkan, dapat dilihat data tidak condong pada satu sisi. Oleh karena itu, dapat disimpulkan skewness dari data kolom OrganicCarbon bersifat symmetrical distribution. Dari histogram juga terlihat bahwa data tersebar secara merata, maka kolom OrganicCarbon bersifat mesokurtic.\n",
    "\n",
    "Dari visualisasi boxplot yang dihasilkan, dapat dilihat kuartil 1 data bernilai sekitar 13, median data bernilai sekitar 15, dan kuartil 3 data bernilai sekitar 16. Dari boxplot juga terdapat beberapa pencilan atas dan pencilan bawah."
   ]
  },
  {
   "cell_type": "markdown",
   "metadata": {},
   "source": [
    "##### Kolom Trihalomethanes"
   ]
  },
  {
   "cell_type": "code",
   "execution_count": 173,
   "metadata": {},
   "outputs": [
    {
     "data": {
      "image/png": "[encoded data removed]",
      "text/plain": [
       "<Figure size 1152x432 with 2 Axes>"
      ]
     },
     "metadata": {},
     "output_type": "display_data"
    }
   ],
   "source": [
    "displayHistAndBox(df[\"Trihalomethanes\"])"
   ]
  },
  {
   "cell_type": "markdown",
   "metadata": {},
   "source": [
    "Dari visualisasi histogram yang dihasilkan, dapat dilihat data tidak condong pada satu sisi. Oleh karena itu, dapat disimpulkan skewness dari data kolom Trihalomethanes bersifat symmetrical distribution. Dari histogram juga terlihat bahwa data tersebar secara merata, maka kolom Trihalomethanes bersifat mesokurtic.\n",
    "\n",
    "Dari visualisasi boxplot yang dihasilkan, dapat dilihat kuartil 1 data bernilai sekitar 60, median data bernilai sekitar 70, dan kuartil 3 data bernilai sekitar 80. Dari boxplot juga terdapat beberapa pencilan atas dan pencilan bawah."
   ]
  },
  {
   "cell_type": "markdown",
   "metadata": {},
   "source": [
    "##### Kolom Turbidity"
   ]
  },
  {
   "cell_type": "code",
   "execution_count": 174,
   "metadata": {},
   "outputs": [
    {
     "data": {
      "image/png": "[encoded data removed]",
      "text/plain": [
       "<Figure size 1152x432 with 2 Axes>"
      ]
     },
     "metadata": {},
     "output_type": "display_data"
    }
   ],
   "source": [
    "displayHistAndBox(df[\"Turbidity\"])"
   ]
  },
  {
   "cell_type": "markdown",
   "metadata": {},
   "source": [
    "Dari visualisasi histogram yang dihasilkan, dapat dilihat data tidak condong pada satu sisi. Oleh karena itu, dapat disimpulkan skewness dari data kolom Turbidity bersifat symmetrical distribution. Dari histogram juga terlihat bahwa data tersebar secara merata, maka kolom Turbidity bersifat mesokurtic.\n",
    "\n",
    "Dari visualisasi boxplot yang dihasilkan, dapat dilihat kuartil 1 data bernilai sekitar 3.5, median data bernilai sekitar 4, dan kuartil 3 data bernilai sekitar 4.5. Dari boxplot juga terdapat beberapa pencilan atas dan pencilan bawah."
   ]
  },
  {
   "cell_type": "markdown",
   "metadata": {},
   "source": [
    "##### Kolom Potability"
   ]
  },
  {
   "cell_type": "markdown",
   "metadata": {},
   "source": [
    "Karen kolom Potability adalah kolom target, maka penggambaran Histogram dan Boxplot tidak diperlukan"
   ]
  },
  {
   "cell_type": "markdown",
   "metadata": {},
   "source": [
    "#### 3. Menentukan setiap kolom numerik berdistribusi normal atau tidak. Gunakan normality test yang dikaitkan dengan histogram plot."
   ]
  },
  {
   "cell_type": "code",
   "execution_count": null,
   "metadata": {},
   "outputs": [],
   "source": [
    "# Level Signifikan\n",
    "alpha = 0.05\n",
    "\n",
    "def normalityTest(df, alpha):\n",
    "  k2, p = stats.normaltest(df)\n",
    "  print(\"p = {:g}\".format(p))\n",
    "  if p < alpha:\n",
    "    print(\"H0 ditolak, data tidak berdistribusi normal\")\n",
    "  else:\n",
    "    print(\"H0 diterima, data berdistribusi normal\")\n",
    "  \n",
    "  # Gambar perbandingan histogram dengan kurva distribusi normal\n",
    "  mu, std = stats.norm.fit(df)\n",
    "  plt.figure(figsize=(10,6))\n",
    "  plt.hist(df, density=True)\n",
    "  xmin, xmax = plt.xlim()\n",
    "  x = np.linspace(xmin, xmax, 100)\n",
    "  y = stats.norm.pdf(x, mu, std)\n",
    "  plt.plot(x, y, 'r', lw=\"3\")\n",
    "  plt.show"
   ]
  },
  {
   "cell_type": "markdown",
   "metadata": {},
   "source": [
    "##### Kolom pH"
   ]
  },
  {
   "cell_type": "code",
   "execution_count": null,
   "metadata": {},
   "outputs": [],
   "source": [
    "normalityTest(df[\"pH\"], alpha)"
   ]
  },
  {
   "cell_type": "markdown",
   "metadata": {},
   "source": [
    "Jika dilihat dari histogram, kolom pH bersifat symmetrical distribution sehingga dapat diasumsikan bahwa kolom pH berdistribusi normal. Akan tetapi, berdasarkan hasil dari normality test, kolom pH tidak berdistribusi normal. Hal ini dapat disebabkan oleh nilai mean, median, dan moduse yang tidak memenuhi kriteria distribusi normal."
   ]
  },
  {
   "cell_type": "markdown",
   "metadata": {},
   "source": [
    "##### Kolom Hardness"
   ]
  },
  {
   "cell_type": "code",
   "execution_count": null,
   "metadata": {},
   "outputs": [],
   "source": [
    "normalityTest(df[\"Hardness\"], alpha)"
   ]
  },
  {
   "cell_type": "markdown",
   "metadata": {},
   "source": [
    "Jika dilihat dari histogram, kolom Hardness bersifat symmetrical distribution sehingga dapat diasumsikan bahwa kolom Hardness berdistribusi normal. Akan tetapi, berdasarkan hasil dari normality test, kolom Hardness tidak berdistribusi normal. Hal ini dapat disebabkan oleh nilai mean, median, dan moduse yang tidak memenuhi kriteria distribusi normal."
   ]
  },
  {
   "cell_type": "markdown",
   "metadata": {},
   "source": [
    "##### Kolom Solids"
   ]
  },
  {
   "cell_type": "code",
   "execution_count": null,
   "metadata": {},
   "outputs": [],
   "source": [
    "normalityTest(df[\"Solids\"], alpha)"
   ]
  },
  {
   "cell_type": "markdown",
   "metadata": {},
   "source": [
    "Jika dilihat dari histogram, kolom tidak berdistribusi normal karena kolom Solids bersifat positive skew. Berdasarkan hasil dari normality test juga menunjukkan bahwa kolom Solids tidak berdistribusi normal."
   ]
  },
  {
   "cell_type": "markdown",
   "metadata": {},
   "source": [
    "##### Kolom Chloramines"
   ]
  },
  {
   "cell_type": "code",
   "execution_count": null,
   "metadata": {},
   "outputs": [],
   "source": [
    "normalityTest(df[\"Chloramines\"], alpha)"
   ]
  },
  {
   "cell_type": "markdown",
   "metadata": {},
   "source": [
    "Jika dilihat dari histogram, kolom Chloramines bersifat symmetrical distribution sehingga dapat diasumsikan bahwa kolom Chloramines berdistribusi normal. Akan tetapi, berdasarkan hasil dari normality test, kolom Chloramines tidak berdistribusi normal. Hal ini dapat disebabkan oleh nilai mean, median, dan moduse yang tidak memenuhi kriteria distribusi normal."
   ]
  },
  {
   "cell_type": "markdown",
   "metadata": {},
   "source": [
    "##### Kolom Sulfate"
   ]
  },
  {
   "cell_type": "code",
   "execution_count": null,
   "metadata": {},
   "outputs": [],
   "source": [
    "normalityTest(df[\"Sulfate\"], alpha)"
   ]
  },
  {
   "cell_type": "markdown",
   "metadata": {},
   "source": [
    "Jika dilihat dari histogram, kolom tidak berdistribusi normal karena kolom Sulfate bersifat negative skew. Berdasarkan hasil dari normality test juga menunjukkan bahwa kolom Sulfate tidak berdistribusi normal."
   ]
  },
  {
   "cell_type": "markdown",
   "metadata": {},
   "source": [
    "##### Kolom Conductivity"
   ]
  },
  {
   "cell_type": "code",
   "execution_count": null,
   "metadata": {},
   "outputs": [],
   "source": [
    "normalityTest(df[\"Conductivity\"], alpha)"
   ]
  },
  {
   "cell_type": "markdown",
   "metadata": {},
   "source": [
    "Jika dilihat dari histogram, kolom tidak berdistribusi normal karena kolom Conductivity bersifat positive skew. Berdasarkan hasil dari normality test juga menunjukkan bahwa kolom Conductivity tidak berdistribusi normal."
   ]
  },
  {
   "cell_type": "markdown",
   "metadata": {},
   "source": [
    "##### Kolom OrganicCarbon"
   ]
  },
  {
   "cell_type": "code",
   "execution_count": null,
   "metadata": {},
   "outputs": [],
   "source": [
    "normalityTest(df[\"OrganicCarbon\"], alpha)"
   ]
  },
  {
   "cell_type": "markdown",
   "metadata": {},
   "source": [
    "Berdasarkan hasil dari normality test, kolom OrganicCarbon berdistribusi normal dan jika kita lihat dari histogram pada kolom OrganicCarbon, dapat kita asumsikan bahwa kolom OrganicCarbon berdistribusi normal karena histogram bersifat symmetrical distribution."
   ]
  },
  {
   "cell_type": "markdown",
   "metadata": {},
   "source": [
    "##### Kolom Trihalomethanes"
   ]
  },
  {
   "cell_type": "code",
   "execution_count": null,
   "metadata": {},
   "outputs": [],
   "source": [
    "normalityTest(df[\"Trihalomethanes\"], alpha)"
   ]
  },
  {
   "cell_type": "markdown",
   "metadata": {},
   "source": [
    "Berdasarkan hasil dari normality test, kolom Trihalomethanes berdistribusi normal dan jika kita lihat dari histogram pada kolom Trihalomethanes, dapat kita asumsikan bahwa kolom Trihalomethanes berdistribusi normal karena histogram bersifat symmetrical distribution."
   ]
  },
  {
   "cell_type": "markdown",
   "metadata": {},
   "source": [
    "##### Kolom Turbidity"
   ]
  },
  {
   "cell_type": "code",
   "execution_count": null,
   "metadata": {},
   "outputs": [],
   "source": [
    "normalityTest(df[\"Turbidity\"], alpha)"
   ]
  },
  {
   "cell_type": "markdown",
   "metadata": {},
   "source": [
    "Berdasarkan hasil dari normality test, kolom Turbidity berdistribusi normal dan jika kita lihat dari histogram pada kolom Turbidity, dapat kita asumsikan bahwa kolom Turbidity berdistribusi normal karena histogram bersifat symmetrical distribution."
   ]
  },
  {
   "cell_type": "markdown",
   "metadata": {},
   "source": [
    "#### 4. Melakukan test hipotesis 1 sampel, dengan menuliskan 6 langkah testing dan menampilkan juga boxplotnya untuk kolom/bagian yang bersesuaian."
   ]
  },
  {
   "cell_type": "markdown",
   "metadata": {},
   "source": [
    "##### 6 langkah testing:\n",
    "1. Tentukan Hipotesis nol (H0: θ = θ0), dimana θ bisa berupa μ, σ^2, p, atau data lain berdistribusi tertentu (normal, binomial, dsc.).\n",
    "2. Pilih hipotesis alternatif H1 salah dari dari θ > θ0, θ < θ0, atau θ ≠ θ0.\n",
    "3. Tentukan tingkat signifikan α.\n",
    "4. Tentukan uji statistik yang sesuai dan tentukan daerah kritis.\n",
    "5. Hitung nilai uji statistik dari data sample. Hitung p-value sesuai dengan uji statistik yang digunakan.\n",
    "6. Ambil keputusan dengan TOLAK H0 jika nilai uji terletak di daerah kritis atau dengan tes signifikan, TOLAK H0 jika p-value lebih kecil dibanding tingkat signifikansi α yang diinginkan."
   ]
  },
  {
   "cell_type": "code",
   "execution_count": null,
   "metadata": {},
   "outputs": [],
   "source": [
    "# Perhitungan nilai uji statistik dari data sampel\n",
    "def nilaiUji(mean, miu, sigma, n):\n",
    "  return (mean - miu) / (sigma / (math.sqrt(n)))\n",
    "\n",
    "# Perhitungan nilai proportion test dari data sampel\n",
    "def nilaiProportionTest(p, p0, n):\n",
    "  return (p - p0) / math.sqrt(p0 * (1 - p0) / n)"
   ]
  },
  {
   "cell_type": "markdown",
   "metadata": {},
   "source": [
    "##### 4a. Nilai Rata-rata pH di atas 7"
   ]
  },
  {
   "cell_type": "markdown",
   "metadata": {},
   "source": [
    "- Hipotesis nol H0: μ = 7\n",
    "- Akan dipilih hipotesis satu H1: μ > 7\n",
    "- Tingkat signifikan α = 0.05\n",
    "- Dengan α = 0.05, maka daerah kritis adalah z > z0.05 = 1.645 karena P(Z < 1.645) = 0.95\n",
    "> P(Z > z) = 0.95 diperoleh dari: P(Z > z) = 1 - α"
   ]
  },
  {
   "cell_type": "code",
   "execution_count": null,
   "metadata": {},
   "outputs": [],
   "source": [
    "z = nilaiUji(df[\"pH\"].mean(), 7, df[\"pH\"].std(), df[\"pH\"].count())\n",
    "print(f\"Nilai uji z = {z}\")\n",
    "\n",
    "if z > 1.645:\n",
    "  print(\"H0 ditolak karena nilai uji berada di dalam daerah kritis.\")\n",
    "else:\n",
    "  print(\"H0 diterima karena nilai uji berada di luar daerah kritis.\")\n",
    "\n",
    "print()\n",
    "\n",
    "pvalue = 1 - stats.norm.cdf(z)\n",
    "print(f\"P value = {pvalue}\")\n",
    "\n",
    "if pvalue < alpha:\n",
    "  print(f\"H0 ditolak karena nilai p value lebih kecil dari alpha ({alpha})\")\n",
    "else:\n",
    "  print(f\"H0 diterima karena nilai p value lebih besar atau sama dengan alpha ({alpha})\")\n",
    "\n",
    "plt.figure(figsize=(10,6))\n",
    "sns.boxplot(data=df[\"pH\"], orient=\"x\", width=0.1)"
   ]
  },
  {
   "cell_type": "markdown",
   "metadata": {},
   "source": [
    "##### 4b. Nilai Rata-rata Hardness tidak sama dengan 205"
   ]
  },
  {
   "cell_type": "markdown",
   "metadata": {},
   "source": [
    "- Hipotesis nol H0: μ = 205\n",
    "- Akan dipilih hipotesis satu H1: μ $\\neq$ 205\n",
    "- Tingkat signifikan α = 0.05\n",
    "- Dengan α = 0.05, maka daerah kritis adalah z < -1.96 dan z > 1.96, diperoleh dari P(Z < z) = 0.975 atau 0.025\n",
    "> P(Z < z) = 0.975 atau 0.025 diperoleh dari: P(Z < z) = 1 - α/2 atau P(Z < z) = α/2"
   ]
  },
  {
   "cell_type": "code",
   "execution_count": null,
   "metadata": {},
   "outputs": [],
   "source": [
    "z = nilaiUji(df[\"Hardness\"].mean(), 205, df[\"Hardness\"].std(), df[\"Hardness\"].count())\n",
    "print(f\"Nilai uji z = {z}\")\n",
    "if z < -1.96 or z > 1.96:\n",
    "  print(\"H0 ditolak karena nilai uji berada di dalam daerah kritis.\")\n",
    "else:\n",
    "  print(\"H0 diterima karena nilai uji berada di luar daerah kritis.\")\n",
    "\n",
    "print()\n",
    "\n",
    "pvalue = 1 - stats.norm.cdf(z)\n",
    "pvalue = pvalue * 2\n",
    "print(f\"P value = {pvalue}\")\n",
    "\n",
    "if pvalue < alpha:\n",
    "  print(f\"H0 ditolak karena nilai p value lebih kecil dari alpha ({alpha})\")\n",
    "else:\n",
    "  print(f\"H0 diterima karena nilai p value lebih besar atau sama dengan alpha ({alpha})\")\n",
    "\n",
    "plt.figure(figsize=(10,6))\n",
    "sns.boxplot(data=df[\"Hardness\"], orient=\"x\", width=0.1)"
   ]
  },
  {
   "cell_type": "markdown",
   "metadata": {},
   "source": [
    "##### 4c. Nilai Rata-rata 100 baris pertama kolom Solids bukan 21900"
   ]
  },
  {
   "cell_type": "markdown",
   "metadata": {},
   "source": [
    "- Hipotesis nol H0: μ = 21900\n",
    "- Akan dipilih hipotesis satu H1: μ $\\neq$ 21900\n",
    "- Tingkat signifikan α = 0.05\n",
    "- Dengan α = 0.05, maka daerah kritis adalah z < -1.96 dan z > 1.96, diperoleh dari P(Z < z) = 0.975 atau 0.025\n",
    "> P(Z < z) = 0.975 atau 0.025 diperoleh dari: P(Z < z) = 1 - α/2 atau P(Z < z) = α/2"
   ]
  },
  {
   "cell_type": "code",
   "execution_count": null,
   "metadata": {},
   "outputs": [],
   "source": [
    "z = nilaiUji(df[\"Solids\"].head(100).mean(), 21900, df[\"Solids\"].head(100).std(), 100)\n",
    "print(f\"Nilai uji z = {z}\")\n",
    "\n",
    "if z < -1.96 or z > 1.96:\n",
    "  print(\"H0 ditolak karena nilai uji berada di dalam daerah kritis.\")\n",
    "else:\n",
    "  print(\"H0 diterima karena nilai uji berada di luar daerah kritis.\")\n",
    "\n",
    "print()\n",
    "\n",
    "pvalue = 1 - stats.norm.cdf(z)\n",
    "pvalue = 2 * pvalue\n",
    "print(f\"P value = {pvalue}\")\n",
    "\n",
    "if pvalue < alpha:\n",
    "  print(f\"H0 ditolak karena nilai p value lebih kecil dari alpha ({alpha})\")\n",
    "else:\n",
    "  print(f\"H0 diterima karena nilai p value lebih besar atau sama dengan alpha ({alpha})\")\n",
    "\n",
    "plt.figure(figsize=(10,6))\n",
    "sns.boxplot(data=df[\"Solids\"].head(100), orient=\"x\", width=0.1)"
   ]
  },
  {
   "cell_type": "markdown",
   "metadata": {},
   "source": [
    "##### 4d. Proporsi nilai Conductivity yang lebih dari 450, adalah tidak sama dengan 10%"
   ]
  },
  {
   "cell_type": "markdown",
   "metadata": {},
   "source": [
    "- Hipotesis nol H0: p0 = 0.1\n",
    "- Akan dipilih hipotesis alternatif H1: p0 $\\neq$ 0.1\n",
    "- Tingkat signifikan α = 0.05\n",
    "- Dengan α = 0.05, akan digunakan uji statistik tes proporsi menggunakan Z, dengan daerah kritis z < -1.96 dan z > 1.96 yang diperoleh dari P(Z < z) = 1 - (0.05 / 2) = 0.975"
   ]
  },
  {
   "cell_type": "code",
   "execution_count": null,
   "metadata": {},
   "outputs": [],
   "source": [
    "p = 0\n",
    "for i in range(len(df[\"Conductivity\"])):\n",
    "  if df[\"Conductivity\"].iloc[i] > 450:\n",
    "    p += 1\n",
    "p = p / len(df[\"Conductivity\"])\n",
    "\n",
    "z = nilaiProportionTest(p, 0.1, len(df[\"Conductivity\"]))\n",
    "print(f\"Nilai uji dari hasil tes proporsi = {z}\")\n",
    "pvalue = 2 * (1 - stats.norm.cdf(z))\n",
    "print(f\"P value = {pvalue}\")\n",
    "\n",
    "if pvalue < alpha:\n",
    "  print(f\"H0 ditolak karena nilai p value lebih kecil dari alpha ({alpha})\")\n",
    "else:\n",
    "  print(f\"H0 diterima karena nilai p value lebih besar atau sama dengan alpha ({alpha})\")\n",
    "\n",
    "plt.figure(figsize=(10,6))\n",
    "sns.boxplot(data=df[\"Conductivity\"], orient=\"x\", width=0.1)"
   ]
  },
  {
   "cell_type": "markdown",
   "metadata": {},
   "source": [
    "##### 4e. Proporsi nilai Trihalomethanes yang kurang dari 40, adalah kurang dari 5%"
   ]
  },
  {
   "cell_type": "markdown",
   "metadata": {},
   "source": [
    "- Hipotesis nol H0: p0 = 0.05\n",
    "- Akan dipilih hipotesis alternatif H1: p0 < 0.05\n",
    "- Tingkat signifikan α = 0.05\n",
    "- Dengan α = 0.05, akan digunakan uji statistik tes proporsi menggunakan Z, dengan daerah kritis z < -1.645 yang diperoleh dari P(Z < z) = 1 - 0.05 = 0.95"
   ]
  },
  {
   "cell_type": "code",
   "execution_count": null,
   "metadata": {},
   "outputs": [],
   "source": [
    "p = 0\n",
    "for i in range(len(df[\"Trihalomethanes\"])):\n",
    "  if df[\"Trihalomethanes\"].iloc[i] < 40:\n",
    "    p += 1\n",
    "p = p / len(df[\"Trihalomethanes\"])\n",
    "\n",
    "z = nilaiProportionTest(p, 0.1, len(df[\"Trihalomethanes\"]))\n",
    "print(f\"Nilai uji dari hasil tes proporsi = {z}\")\n",
    "pvalue = stats.norm.cdf(z)\n",
    "print(f\"P value = {pvalue}\")\n",
    "\n",
    "if pvalue < alpha:\n",
    "  print(f\"H0 ditolak karena nilai p value lebih kecil dari alpha ({alpha})\")\n",
    "else:\n",
    "  print(f\"H0 diterima karena nilai p value lebih besar atau sama dengan alpha ({alpha})\")\n",
    "\n",
    "plt.figure(figsize=(10,6))\n",
    "sns.boxplot(data=df[\"Trihalomethanes\"], orient=\"x\", width=0.1)"
   ]
  },
  {
   "cell_type": "code",
   "execution_count": null,
   "metadata": {},
   "outputs": [],
   "source": [
    "def nilaiUji2(mean1,mean2, sigma1, sigma2, n1, n2, myu0):\n",
    "    return ((mean1 - mean2) - myu0) / math.sqrt(sigma1**2 / n1 + sigma2**2 / n2)"
   ]
  },
  {
   "cell_type": "markdown",
   "metadata": {},
   "source": [
    "##### 5a Data kolom Sulfate dibagi 2 sama rata: bagian awal dan bagian akhir kolom. Benarkah rata-rata kedua bagian tersebut sama?"
   ]
  },
  {
   "cell_type": "markdown",
   "metadata": {},
   "source": [
    "- Hipotesis nol H0: μ1 = μ2\n",
    "- Akan dipilih hipotesis satu H1: μ1 $\\neq$ μ2\n",
    "- Tingkat signifikan α = 0.05\n",
    "- Dengan α = 0.05, maka daerah kritis adalah z < -1.645 dan z > 1.645, diperoleh dari P(Z < z) = 0.975 atau 0.025\n",
    "> P(Z < z) = 0.975 atau 0.025 diperoleh dari: P(Z < z) = 1 - α/2 atau P(Z < z) = α/2"
   ]
  },
  {
   "cell_type": "code",
   "execution_count": null,
   "metadata": {},
   "outputs": [],
   "source": [
    "firsthalf = df[\"Sulfate\"][0:(len(df[\"Sulfate\"])//2)]\n",
    "rest = df[\"Sulfate\"][(len(df[\"Sulfate\"])//2)::]\n",
    "z = nilaiUji2(firsthalf.mean(), rest.mean(),firsthalf.std(), rest.std(), firsthalf.count(), rest.count(), 0)\n",
    "print(f\"Nilai uji z = {z}\")\n",
    "\n",
    "if z > 1.645 and z < -1.645:\n",
    "  print(\"H0 ditolak karena nilai uji berada di dalam daerah kritis.\")\n",
    "else:\n",
    "  print(\"H0 diterima karena nilai uji berada di luar daerah kritis.\")"
   ]
  },
  {
   "cell_type": "markdown",
   "metadata": {},
   "source": [
    "##### 5b Data kolom OrganicCarbon dibagi 2 sama rata: bagian awal dan bagian akhir kolom.Benarkah rata-rata bagian awal lebih besar dari pada bagian akhir sebesar 0.15?"
   ]
  },
  {
   "cell_type": "markdown",
   "metadata": {},
   "source": [
    "- Hipotesis nol H0: μ1 - μ2 = 0.15\n",
    "- Akan dipilih hipotesis satu H1: μ1 - μ2 $\\neq$ 0.15\n",
    "- Tingkat signifikan α = 0.05\n",
    "- Dengan α = 0.05, maka daerah kritis adalah z < -1.645 dan z > 1.645, diperoleh dari P(Z < z) = 0.975 atau 0.025\n",
    "> P(Z < z) = 0.975 atau 0.025 diperoleh dari: P(Z < z) = 1 - α/2 atau P(Z < z) = α/2"
   ]
  },
  {
   "cell_type": "code",
   "execution_count": null,
   "metadata": {},
   "outputs": [],
   "source": [
    "firsthalf = df[\"OrganicCarbon\"][0:(len(df[\"OrganicCarbon\"])//2)]\n",
    "rest = df[\"OrganicCarbon\"][(len(df[\"OrganicCarbon\"])//2)::]\n",
    "z = nilaiUji2(firsthalf.mean(), rest.mean(),firsthalf.std(), rest.std(), firsthalf.count(), rest.count(), 0.15)\n",
    "print(f\"Nilai uji z = {z}\")\n",
    "\n",
    "if z > 1.645 and z < -1.645:\n",
    "  print(\"H0 ditolak karena nilai uji berada di dalam daerah kritis.\")\n",
    "else:\n",
    "  print(\"H0 diterima karena nilai uji berada di luar daerah kritis.\")"
   ]
  },
  {
   "cell_type": "markdown",
   "metadata": {},
   "source": [
    "##### 5c Rata-rata 100 baris pertama kolom Chloramines sama dengan 100 baris terakhirnya?"
   ]
  },
  {
   "cell_type": "markdown",
   "metadata": {},
   "source": [
    "- Hipotesis nol H0: μ1 = μ2\n",
    "- Akan dipilih hipotesis satu H1: μ1 $\\neq$ μ2\n",
    "- Tingkat signifikan α = 0.05\n",
    "- Dengan α = 0.05, maka daerah kritis adalah z < -1.96 dan z > 1.96, diperoleh dari P(Z < z) = 0.975 atau 0.025\n",
    "> P(Z < z) = 0.975 atau 0.025 diperoleh dari: P(Z < z) = 1 - α/2 atau P(Z < z) = α/2"
   ]
  },
  {
   "cell_type": "code",
   "execution_count": null,
   "metadata": {},
   "outputs": [],
   "source": [
    "firsthalf = df[\"Chloramines\"][0:100]\n",
    "rest = df[\"Chloramines\"][-100::]\n",
    "z = nilaiUji2(firsthalf.mean(), rest.mean(),firsthalf.std(), rest.std(), firsthalf.count(), rest.count(), 0)\n",
    "print(f\"Nilai uji z = {z}\")\n",
    "\n",
    "if z < -1.96 and z > 1.96:\n",
    "  print(\"H0 ditolak karena nilai uji berada di dalam daerah kritis.\")\n",
    "else:\n",
    "  print(\"H0 diterima karena nilai uji berada di luar daerah kritis.\")"
   ]
  },
  {
   "cell_type": "markdown",
   "metadata": {},
   "source": [
    "##### 5d Proporsi nilai bagian awal Turbidity yang lebih dari 4, adalah lebih besar daripada, proporsi nilai yang sama di bagian akhir Turbidity ?"
   ]
  },
  {
   "cell_type": "markdown",
   "metadata": {},
   "source": [
    "cem mane nih"
   ]
  },
  {
   "cell_type": "code",
   "execution_count": null,
   "metadata": {},
   "outputs": [],
   "source": []
  },
  {
   "cell_type": "markdown",
   "metadata": {},
   "source": [
    "##### 5e Bagian awal kolom Sulfate memiliki variansi yang sama dengan bagian akhirnya?"
   ]
  },
  {
   "cell_type": "markdown",
   "metadata": {},
   "source": [
    "cem mane nih"
   ]
  },
  {
   "cell_type": "code",
   "execution_count": null,
   "metadata": {},
   "outputs": [],
   "source": [
    "def UjiKorelasi(data1, data2):\n",
    "    sns.scatterplot(x = data1, y = data2, data = df)\n",
    "    cor = df[data1].corr(df[data2], method = \"pearson\")\n",
    "    print(\"Nilai Korelasi antara \" + data1 + \" dengan \" + data2 +\" adalah \" + str(cor))\n",
    "    if (cor > 0.5):\n",
    "        print(\"Data \" + data1 + \" dan \" + data2 +\" Berkolerasi kuat dan positif\")\n",
    "    elif (cor < -0.5):\n",
    "        print(\"Data \" + data1 + \" dan \" + data2 +\" Berkolerasi kuat dan negatif\")\n",
    "    else:\n",
    "        print(\"Data \" + data1 + \" dan \" + data2 +\" tidak berkorelasi/korelasinya lemah\")"
   ]
  },
  {
   "cell_type": "markdown",
   "metadata": {},
   "source": [
    "##### 6 Test korelasi: tentukan apakah setiap kolom non-target berkorelasi dengan kolom target, dengan menggambarkan juga scatter plot nya. Gunakan correlation test."
   ]
  },
  {
   "cell_type": "code",
   "execution_count": null,
   "metadata": {},
   "outputs": [],
   "source": [
    "UjiKorelasi(\"pH\", \"Potability\")"
   ]
  },
  {
   "cell_type": "code",
   "execution_count": null,
   "metadata": {},
   "outputs": [],
   "source": [
    "UjiKorelasi(\"Hardness\", \"Potability\")"
   ]
  },
  {
   "cell_type": "code",
   "execution_count": null,
   "metadata": {},
   "outputs": [],
   "source": [
    "UjiKorelasi(\"Solids\", \"Potability\")"
   ]
  },
  {
   "cell_type": "code",
   "execution_count": null,
   "metadata": {},
   "outputs": [],
   "source": [
    "UjiKorelasi(\"Hardness\", \"Potability\")"
   ]
  },
  {
   "cell_type": "code",
   "execution_count": null,
   "metadata": {},
   "outputs": [],
   "source": [
    "UjiKorelasi(\"Chloramines\", \"Potability\")"
   ]
  },
  {
   "cell_type": "code",
   "execution_count": null,
   "metadata": {},
   "outputs": [],
   "source": [
    "UjiKorelasi(\"Sulfate\", \"Potability\")"
   ]
  },
  {
   "cell_type": "code",
   "execution_count": null,
   "metadata": {},
   "outputs": [],
   "source": [
    "UjiKorelasi(\"Conductivity\", \"Potability\")"
   ]
  },
  {
   "cell_type": "code",
   "execution_count": null,
   "metadata": {},
   "outputs": [],
   "source": [
    "UjiKorelasi(\"OrganicCarbon\", \"Potability\")"
   ]
  },
  {
   "cell_type": "code",
   "execution_count": null,
   "metadata": {},
   "outputs": [],
   "source": [
    "UjiKorelasi(\"Trihalomethanes\", \"Potability\")"
   ]
  },
  {
   "cell_type": "code",
   "execution_count": null,
   "metadata": {},
   "outputs": [],
   "source": [
    "UjiKorelasi(\"Turbidity\", \"Potability\")"
   ]
  },
  {
   "cell_type": "code",
   "execution_count": null,
   "metadata": {},
   "outputs": [],
   "source": []
  }
 ],
 "metadata": {
  "interpreter": {
   "hash": "ff7fd8b6273c7308444a5596459df61ee0891494574e63f35a91dfd93976b25e"
  },
  "kernelspec": {
   "display_name": "Python 3",
   "language": "python",
   "name": "python3"
  },
  "language_info": {
   "codemirror_mode": {
    "name": "ipython",
    "version": 3
   },
   "file_extension": ".py",
   "mimetype": "text/x-python",
   "name": "python",
   "nbconvert_exporter": "python",
   "pygments_lexer": "ipython3",
   "version": "3.8.5"
  }
 },
 "nbformat": 4,
 "nbformat_minor": 2
}
